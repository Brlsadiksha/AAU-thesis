{
 "cells": [
  {
   "cell_type": "code",
   "execution_count": 9,
   "metadata": {},
   "outputs": [],
   "source": [
    "import pandas as pd\n",
    "from sklearn.preprocessing import MultiLabelBinarizer\n",
    "import numpy as np\n",
    "\n",
    "from sklearn.metrics import accuracy_score, precision_score, recall_score, f1_score\n",
    "from torcheval.metrics import MultilabelAccuracy\n",
    "import torch\n",
    "from prettytable import PrettyTable"
   ]
  },
  {
   "cell_type": "code",
   "execution_count": 19,
   "metadata": {},
   "outputs": [],
   "source": [
    "df = pd.read_csv(\"results/openai/openai_result.csv\", index_col=0)"
   ]
  },
  {
   "cell_type": "code",
   "execution_count": 20,
   "metadata": {},
   "outputs": [],
   "source": [
    "df[\"openai_no_finetune\"] = df[\"openai_no_finetune\"].map(lambda x: eval(x))\n",
    "df[\"openai_finetuned\"] = df[\"openai_finetuned\"].map(lambda x: eval(x))\n",
    "df[\"true_labels\"] = df[\"true_labels\"].map(lambda x: eval(x))"
   ]
  },
  {
   "cell_type": "code",
   "execution_count": 21,
   "metadata": {},
   "outputs": [
    {
     "data": {
      "text/html": [
       "<div>\n",
       "<style scoped>\n",
       "    .dataframe tbody tr th:only-of-type {\n",
       "        vertical-align: middle;\n",
       "    }\n",
       "\n",
       "    .dataframe tbody tr th {\n",
       "        vertical-align: top;\n",
       "    }\n",
       "\n",
       "    .dataframe thead th {\n",
       "        text-align: right;\n",
       "    }\n",
       "</style>\n",
       "<table border=\"1\" class=\"dataframe\">\n",
       "  <thead>\n",
       "    <tr style=\"text-align: right;\">\n",
       "      <th></th>\n",
       "      <th>text</th>\n",
       "      <th>true_labels</th>\n",
       "      <th>openai_no_finetune</th>\n",
       "      <th>openai_finetuned</th>\n",
       "    </tr>\n",
       "  </thead>\n",
       "  <tbody>\n",
       "    <tr>\n",
       "      <th>0</th>\n",
       "      <td>bread top notch well</td>\n",
       "      <td>{'food': 'positive'}</td>\n",
       "      <td>{}</td>\n",
       "      <td>{'food': 'positive'}</td>\n",
       "    </tr>\n",
       "    <tr>\n",
       "      <th>1</th>\n",
       "      <td>say one fastest delivery times city</td>\n",
       "      <td>{'service': 'positive'}</td>\n",
       "      <td>{}</td>\n",
       "      <td>{'other': 'positive'}</td>\n",
       "    </tr>\n",
       "    <tr>\n",
       "      <th>2</th>\n",
       "      <td>food always fresh ready eat</td>\n",
       "      <td>{'food': 'positive'}</td>\n",
       "      <td>{'food': 'positive'}</td>\n",
       "      <td>{'food': 'positive'}</td>\n",
       "    </tr>\n",
       "    <tr>\n",
       "      <th>3</th>\n",
       "      <td>mention coffee outstanding</td>\n",
       "      <td>{'food': 'positive'}</td>\n",
       "      <td>{}</td>\n",
       "      <td>{'food': 'positive'}</td>\n",
       "    </tr>\n",
       "    <tr>\n",
       "      <th>4</th>\n",
       "      <td>trust people go sushi never disappoints</td>\n",
       "      <td>{'other': 'positive'}</td>\n",
       "      <td>{}</td>\n",
       "      <td>{'other': 'positive'}</td>\n",
       "    </tr>\n",
       "  </tbody>\n",
       "</table>\n",
       "</div>"
      ],
      "text/plain": [
       "                                      text              true_labels  \\\n",
       "0                     bread top notch well     {'food': 'positive'}   \n",
       "1      say one fastest delivery times city  {'service': 'positive'}   \n",
       "2              food always fresh ready eat     {'food': 'positive'}   \n",
       "3               mention coffee outstanding     {'food': 'positive'}   \n",
       "4  trust people go sushi never disappoints    {'other': 'positive'}   \n",
       "\n",
       "     openai_no_finetune       openai_finetuned  \n",
       "0                    {}   {'food': 'positive'}  \n",
       "1                    {}  {'other': 'positive'}  \n",
       "2  {'food': 'positive'}   {'food': 'positive'}  \n",
       "3                    {}   {'food': 'positive'}  \n",
       "4                    {}  {'other': 'positive'}  "
      ]
     },
     "execution_count": 21,
     "metadata": {},
     "output_type": "execute_result"
    }
   ],
   "source": [
    "df.head()"
   ]
  },
  {
   "cell_type": "markdown",
   "metadata": {},
   "source": [
    "## LLM metrics"
   ]
  },
  {
   "cell_type": "code",
   "execution_count": 15,
   "metadata": {},
   "outputs": [],
   "source": [
    "def calculate_exact_match_accuracy(df, pred_col_name):\n",
    "    exact_matches = df.apply(lambda row: row['true_labels'] == row[pred_col_name], axis=1)\n",
    "    exact_match_accuracy = exact_matches.mean()\n",
    "    return exact_match_accuracy\n",
    "\n",
    "def calculate_partial_accuracy(df, pred_col_name):\n",
    "    def partial_match(row):\n",
    "        true_keys = set(row['true_labels'].keys())\n",
    "        pred_keys = set(row[pred_col_name].keys())\n",
    "        matching_keys = true_keys & pred_keys\n",
    "        if len(true_keys) == 0:\n",
    "            return 0\n",
    "        return len(matching_keys) / len(true_keys)\n",
    "    \n",
    "    partial_accuracies = df.apply(partial_match, axis=1)\n",
    "    partial_accuracy = partial_accuracies.mean()\n",
    "    return partial_accuracy\n",
    "\n",
    "def count_extra_keys(df, pred_col_name):\n",
    "    def extra_key_count(row):\n",
    "        true_keys = set(row['true_labels'].keys())\n",
    "        pred_keys = set(row[pred_col_name].keys())\n",
    "        extra_keys = pred_keys - true_keys\n",
    "        return len(extra_keys)\n",
    "    \n",
    "    extra_keys_counts = df.apply(extra_key_count, axis=1)\n",
    "    return extra_keys_counts.sum()\n",
    "\n",
    "def count_rows_with_extra_keys(df, pred_col_name):\n",
    "    def has_extra_keys(row):\n",
    "        true_keys = set(row['true_labels'].keys())\n",
    "        pred_keys = set(row[pred_col_name].keys())\n",
    "        extra_keys = pred_keys - true_keys\n",
    "        return len(extra_keys) > 0\n",
    "    \n",
    "    rows_with_extra_keys = df.apply(has_extra_keys, axis=1)\n",
    "    return rows_with_extra_keys.sum()\n",
    "\n",
    "def count_empty_predicted_labels(df, pred_col):\n",
    "    empty_predicted_labels = df[pred_col].apply(lambda x: len(x) == 0)\n",
    "    return empty_predicted_labels.sum()"
   ]
  },
  {
   "cell_type": "code",
   "execution_count": 14,
   "metadata": {},
   "outputs": [
    {
     "name": "stdout",
     "output_type": "stream",
     "text": [
      "openai_no_finetune\n",
      "Exact Match Accuracy: 0.3417890520694259\n",
      "Partial Accuracy: 0.4564975522919448\n",
      "Count of Extra Keys: 43\n",
      "Number of Rows with Extra Keys: 41\n",
      "Number of Rows with Empty Predicted Labels: 374\n",
      "Total: 749\n"
     ]
    }
   ],
   "source": [
    "pred_col = \"openai_no_finetune\"\n",
    "print(pred_col)\n",
    "\n",
    "exact_match_accuracy = calculate_exact_match_accuracy(df, pred_col)\n",
    "partial_accuracy = calculate_partial_accuracy(df, pred_col)\n",
    "extra_key_count = count_extra_keys(df, pred_col)\n",
    "rows_with_extra_keys = count_rows_with_extra_keys(df, pred_col)\n",
    "empty_predicted_labels_count = count_empty_predicted_labels(df, pred_col)\n",
    "\n",
    "\n",
    "print(f'Exact Match Accuracy: {exact_match_accuracy}')\n",
    "print(f'Partial Accuracy: {partial_accuracy}')\n",
    "print(f'Count of Extra Keys: {extra_key_count}')\n",
    "print(f'Number of Rows with Extra Keys: {rows_with_extra_keys}')\n",
    "print(f'Number of Rows with Empty Predicted Labels: {empty_predicted_labels_count}')\n",
    "print(f'Total: {df.shape[0]}')"
   ]
  },
  {
   "cell_type": "code",
   "execution_count": 22,
   "metadata": {},
   "outputs": [
    {
     "name": "stdout",
     "output_type": "stream",
     "text": [
      "openai_finetuned\n",
      "Exact Match Accuracy: 0.6955941255006676\n",
      "Partial Accuracy: 0.8849577214063195\n",
      "Count of Extra Keys: 86\n",
      "Number of Rows with Extra Keys: 83\n",
      "Number of Rows with Empty Predicted Labels: 0\n",
      "Total: 749\n"
     ]
    }
   ],
   "source": [
    "pred_col = \"openai_finetuned\"\n",
    "print(pred_col)\n",
    "\n",
    "exact_match_accuracy = calculate_exact_match_accuracy(df, pred_col)\n",
    "partial_accuracy = calculate_partial_accuracy(df, pred_col)\n",
    "extra_key_count = count_extra_keys(df, pred_col)\n",
    "rows_with_extra_keys = count_rows_with_extra_keys(df, pred_col)\n",
    "empty_predicted_labels_count = count_empty_predicted_labels(df, pred_col)\n",
    "\n",
    "\n",
    "print(f'Exact Match Accuracy: {exact_match_accuracy}')\n",
    "print(f'Partial Accuracy: {partial_accuracy}')\n",
    "print(f'Count of Extra Keys: {extra_key_count}')\n",
    "print(f'Number of Rows with Extra Keys: {rows_with_extra_keys}')\n",
    "print(f'Number of Rows with Empty Predicted Labels: {empty_predicted_labels_count}')\n",
    "print(f'Total: {df.shape[0]}')"
   ]
  },
  {
   "cell_type": "code",
   "execution_count": null,
   "metadata": {},
   "outputs": [],
   "source": []
  }
 ],
 "metadata": {
  "kernelspec": {
   "display_name": "thesis",
   "language": "python",
   "name": "python3"
  },
  "language_info": {
   "codemirror_mode": {
    "name": "ipython",
    "version": 3
   },
   "file_extension": ".py",
   "mimetype": "text/x-python",
   "name": "python",
   "nbconvert_exporter": "python",
   "pygments_lexer": "ipython3",
   "version": "3.11.9"
  }
 },
 "nbformat": 4,
 "nbformat_minor": 2
}
