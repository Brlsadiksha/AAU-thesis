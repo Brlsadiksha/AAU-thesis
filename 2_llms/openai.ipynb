{
 "cells": [
  {
   "cell_type": "code",
   "execution_count": 1,
   "metadata": {},
   "outputs": [
    {
     "name": "stderr",
     "output_type": "stream",
     "text": [
      "/tmp/ipykernel_246992/158874326.py:2: TqdmExperimentalWarning: Using `tqdm.autonotebook.tqdm` in notebook mode. Use `tqdm.tqdm` instead to force console mode (e.g. in jupyter console)\n",
      "  from tqdm.autonotebook import tqdm\n"
     ]
    }
   ],
   "source": [
    "import pandas as pd\n",
    "from tqdm.autonotebook import tqdm"
   ]
  },
  {
   "cell_type": "code",
   "execution_count": 2,
   "metadata": {},
   "outputs": [],
   "source": [
    "from openai import OpenAI\n",
    "client = OpenAI(api_key=\"API_KEY\")"
   ]
  },
  {
   "cell_type": "code",
   "execution_count": 3,
   "metadata": {},
   "outputs": [],
   "source": [
    "aspects = [\"food\", \"service\", \"ambience\", \"price\", \"other\"]\n",
    "sentiments = [\"positive\", \"neutral\", \"negative\"]"
   ]
  },
  {
   "cell_type": "code",
   "execution_count": 4,
   "metadata": {},
   "outputs": [],
   "source": [
    "df = pd.read_csv(\"../../eval/results/phi3_n_shot/phi3_two_shot_df.csv\")\n",
    "fl = []\n",
    "for i, x in df.iterrows():\n",
    "    fl.append({k:v for k,v in eval(x[\"true_labels\"]).items() if v is not None})\n",
    "df[\"true_labels\"] = fl"
   ]
  },
  {
   "cell_type": "code",
   "execution_count": 5,
   "metadata": {},
   "outputs": [],
   "source": [
    "df = df[[\"text\", \"true_labels\"]]"
   ]
  },
  {
   "cell_type": "code",
   "execution_count": 6,
   "metadata": {},
   "outputs": [
    {
     "data": {
      "text/html": [
       "<div>\n",
       "<style scoped>\n",
       "    .dataframe tbody tr th:only-of-type {\n",
       "        vertical-align: middle;\n",
       "    }\n",
       "\n",
       "    .dataframe tbody tr th {\n",
       "        vertical-align: top;\n",
       "    }\n",
       "\n",
       "    .dataframe thead th {\n",
       "        text-align: right;\n",
       "    }\n",
       "</style>\n",
       "<table border=\"1\" class=\"dataframe\">\n",
       "  <thead>\n",
       "    <tr style=\"text-align: right;\">\n",
       "      <th></th>\n",
       "      <th>text</th>\n",
       "      <th>true_labels</th>\n",
       "    </tr>\n",
       "  </thead>\n",
       "  <tbody>\n",
       "    <tr>\n",
       "      <th>0</th>\n",
       "      <td>bread top notch well</td>\n",
       "      <td>{'food': 'positive'}</td>\n",
       "    </tr>\n",
       "    <tr>\n",
       "      <th>1</th>\n",
       "      <td>say one fastest delivery times city</td>\n",
       "      <td>{'service': 'positive'}</td>\n",
       "    </tr>\n",
       "    <tr>\n",
       "      <th>2</th>\n",
       "      <td>food always fresh ready eat</td>\n",
       "      <td>{'food': 'positive'}</td>\n",
       "    </tr>\n",
       "    <tr>\n",
       "      <th>3</th>\n",
       "      <td>mention coffee outstanding</td>\n",
       "      <td>{'food': 'positive'}</td>\n",
       "    </tr>\n",
       "    <tr>\n",
       "      <th>4</th>\n",
       "      <td>trust people go sushi never disappoints</td>\n",
       "      <td>{'other': 'positive'}</td>\n",
       "    </tr>\n",
       "  </tbody>\n",
       "</table>\n",
       "</div>"
      ],
      "text/plain": [
       "                                      text              true_labels\n",
       "0                     bread top notch well     {'food': 'positive'}\n",
       "1      say one fastest delivery times city  {'service': 'positive'}\n",
       "2              food always fresh ready eat     {'food': 'positive'}\n",
       "3               mention coffee outstanding     {'food': 'positive'}\n",
       "4  trust people go sushi never disappoints    {'other': 'positive'}"
      ]
     },
     "execution_count": 6,
     "metadata": {},
     "output_type": "execute_result"
    }
   ],
   "source": [
    "df.head()"
   ]
  },
  {
   "cell_type": "code",
   "execution_count": 7,
   "metadata": {},
   "outputs": [
    {
     "data": {
      "text/plain": [
       "(749, 2)"
      ]
     },
     "execution_count": 7,
     "metadata": {},
     "output_type": "execute_result"
    }
   ],
   "source": [
    "df.shape"
   ]
  },
  {
   "cell_type": "code",
   "execution_count": null,
   "metadata": {},
   "outputs": [],
   "source": [
    "openai_response = []\n",
    "\n",
    "for _, row in tqdm(df.iterrows(), total=df.shape[0]):\n",
    "    label = row[\"true_labels\"]\n",
    "    text = row[\"text\"]\n",
    "\n",
    "    response = client.chat.completions.create(\n",
    "        model=\"gpt-3.5-turbo-0125\", \n",
    "        response_format={ \"type\": \"json_object\" }, \n",
    "        messages=[\n",
    "            {\"role\": \"system\", \"content\": f\"Your task is to analyse and perform aspect based sentiment analysis on the given restaurant reviews text. The aspects should only be {aspects} and sentiments should only be {sentiments}. Output should only contain mentioned aspects and their respective sentiments as a json. Each aspects should only have one sentiment and not every aspect is necessarily present. Do not provide any further explanation.\"},\n",
    "            {\"role\": \"user\", \"content\": \"Add to that great service and great food at a reasonable price and you have yourself the beginning of a great evening\"},\n",
    "            {\"role\": \"assistant\", \"content\": \"{'service':'positive','food':'positive','price':'positive'}\"},\n",
    "            {\"role\": \"user\", \"content\": text}\n",
    "            ]\n",
    "            )\n",
    "\n",
    "    openai_response.append(response.choices[0].message.content)\n",
    "\n",
    "\n",
    "\n",
    "\n"
   ]
  },
  {
   "cell_type": "code",
   "execution_count": null,
   "metadata": {},
   "outputs": [],
   "source": [
    "df[\"openai_no_finetune\"] = openai_response"
   ]
  },
  {
   "cell_type": "code",
   "execution_count": null,
   "metadata": {},
   "outputs": [],
   "source": [
    "df.to_csv(\"../../eval/results/openai/openai_result.csv\")"
   ]
  },
  {
   "cell_type": "markdown",
   "metadata": {},
   "source": [
    "## Finetuning"
   ]
  },
  {
   "cell_type": "code",
   "execution_count": 10,
   "metadata": {},
   "outputs": [
    {
     "data": {
      "text/plain": [
       "FileObject(id='file-yonRGbb8AexonWqklxVAm0g9', bytes=66837, created_at=1717325776, filename='openai.jsonl', object='file', purpose='fine-tune', status='processed', status_details=None)"
      ]
     },
     "execution_count": 10,
     "metadata": {},
     "output_type": "execute_result"
    }
   ],
   "source": [
    "client.files.create(\n",
    "  file=open(\"openai.jsonl\", \"rb\"),\n",
    "  purpose=\"fine-tune\"\n",
    ")"
   ]
  },
  {
   "cell_type": "code",
   "execution_count": 12,
   "metadata": {},
   "outputs": [
    {
     "data": {
      "text/plain": [
       "FineTuningJob(id='ftjob-7EAIs5HSTSHnS69VMF9FwMac', created_at=1717325809, error=Error(code=None, message=None, param=None), fine_tuned_model=None, finished_at=None, hyperparameters=Hyperparameters(n_epochs='auto', batch_size='auto', learning_rate_multiplier='auto'), model='gpt-3.5-turbo-0125', object='fine_tuning.job', organization_id='org-xE3l5iHAYqkV1PJDFAwfkWoo', result_files=[], seed=765579872, status='validating_files', trained_tokens=None, training_file='file-yonRGbb8AexonWqklxVAm0g9', validation_file=None, estimated_finish=None, integrations=[], user_provided_suffix=None)"
      ]
     },
     "execution_count": 12,
     "metadata": {},
     "output_type": "execute_result"
    }
   ],
   "source": [
    "client.fine_tuning.jobs.create(\n",
    "  training_file=\"file-yonRGbb8AexonWqklxVAm0g9\", \n",
    "  model=\"gpt-3.5-turbo\"\n",
    ")"
   ]
  },
  {
   "cell_type": "code",
   "execution_count": 16,
   "metadata": {},
   "outputs": [
    {
     "data": {
      "text/plain": [
       "SyncCursorPage[FineTuningJob](data=[FineTuningJob(id='ftjob-7EAIs5HSTSHnS69VMF9FwMac', created_at=1717325809, error=Error(code=None, message=None, param=None), fine_tuned_model='ft:gpt-3.5-turbo-0125:infomedia::9VdLBKV7', finished_at=1717326420, hyperparameters=Hyperparameters(n_epochs=3, batch_size=1, learning_rate_multiplier=2), model='gpt-3.5-turbo-0125', object='fine_tuning.job', organization_id='org-xE3l5iHAYqkV1PJDFAwfkWoo', result_files=['file-qUVLZ1oPQT6uE1W4UfiKJSo6'], seed=765579872, status='succeeded', trained_tokens=35178, training_file='file-yonRGbb8AexonWqklxVAm0g9', validation_file=None, estimated_finish=None, integrations=[], user_provided_suffix=None), FineTuningJob(id='ftjob-w26DyboMYSqYt1eCwuKlvMM7', created_at=1717323794, error=Error(code=None, message=None, param=None), fine_tuned_model=None, finished_at=None, hyperparameters=Hyperparameters(n_epochs=3, batch_size=5, learning_rate_multiplier=2), model='gpt-3.5-turbo-0125', object='fine_tuning.job', organization_id='org-xE3l5iHAYqkV1PJDFAwfkWoo', result_files=[], seed=502865659, status='cancelled', trained_tokens=None, training_file='file-RQxjREJfrQZiki0MdlYYf1WX', validation_file=None, estimated_finish=1717329077, integrations=[], user_provided_suffix=None), FineTuningJob(id='ftjob-adMCYXrj2QHVRZunmeac7woX', created_at=1700484993, error=Error(code=None, message=None, param=None), fine_tuned_model='ft:gpt-3.5-turbo-0613:infomedia::8MyJSqib', finished_at=1700485749, hyperparameters=Hyperparameters(n_epochs=3, batch_size=1, learning_rate_multiplier=2), model='gpt-3.5-turbo-0613', object='fine_tuning.job', organization_id='org-xE3l5iHAYqkV1PJDFAwfkWoo', result_files=['file-5hgoD2RCFHRaHQybpd8AtJ8f'], seed=None, status='succeeded', trained_tokens=350508, training_file='file-5o8LTKZYKMWXwhndHAnVbgJs', validation_file=None, estimated_finish=None, integrations=[], user_provided_suffix=None), FineTuningJob(id='ftjob-qEUAvxkZaxdE00RVVmDX0ryF', created_at=1693319313, error=Error(code=None, message=None, param=None), fine_tuned_model='ft:gpt-3.5-turbo-0613:infomedia::7suAVAtm', finished_at=1693319981, hyperparameters=Hyperparameters(n_epochs=3, batch_size=1, learning_rate_multiplier=2), model='gpt-3.5-turbo-0613', object='fine_tuning.job', organization_id='org-xE3l5iHAYqkV1PJDFAwfkWoo', result_files=['file-DXjZ6UyrzSTqtrmxXMSPsrnO'], seed=None, status='succeeded', trained_tokens=251706, training_file='file-rD4k4ZasWuW1y6QDeaO9V7bb', validation_file=None, estimated_finish=None, integrations=[], user_provided_suffix=None)], object='list', has_more=False)"
      ]
     },
     "execution_count": 16,
     "metadata": {},
     "output_type": "execute_result"
    }
   ],
   "source": [
    "# List 10 fine-tuning jobs\n",
    "client.fine_tuning.jobs.list(limit=10)"
   ]
  },
  {
   "cell_type": "code",
   "execution_count": 18,
   "metadata": {},
   "outputs": [
    {
     "data": {
      "text/plain": [
       "SyncCursorPage[FineTuningJobEvent](data=[FineTuningJobEvent(id='ftevent-S1Eh9iChq338g6suXny9ICP3', created_at=1717326424, level='info', message='The job has successfully completed', object='fine_tuning.job.event', data={}, type='message'), FineTuningJobEvent(id='ftevent-FZF9zRHgHHE1YGTOnrQ7WAHp', created_at=1717326422, level='info', message='New fine-tuned model created: ft:gpt-3.5-turbo-0125:infomedia::9VdLBKV7', object='fine_tuning.job.event', data={}, type='message'), FineTuningJobEvent(id='ftevent-IuXsutNHyiIjIbGd6IrZ1Jh5', created_at=1717326422, level='info', message='Checkpoint created at step 200 with Snapshot ID: ft:gpt-3.5-turbo-0125:infomedia::9VdLBwLk:ckpt-step-200', object='fine_tuning.job.event', data={}, type='message'), FineTuningJobEvent(id='ftevent-qUcwMylpNQk0x7wVzqy4R5OO', created_at=1717326422, level='info', message='Checkpoint created at step 100 with Snapshot ID: ft:gpt-3.5-turbo-0125:infomedia::9VdLBUwg:ckpt-step-100', object='fine_tuning.job.event', data={}, type='message'), FineTuningJobEvent(id='ftevent-j3hnBDMgjqY3DWJ436JCYgaU', created_at=1717326420, level='info', message='Step 300/300: training loss=0.36', object='fine_tuning.job.event', data={'step': 300, 'train_loss': 0.35748884081840515, 'total_steps': 300, 'train_mean_token_accuracy': 0.9629629850387573}, type='metrics'), FineTuningJobEvent(id='ftevent-ViFG5SncEPC5xDF5mDexSlpc', created_at=1717326418, level='info', message='Step 299/300: training loss=0.35', object='fine_tuning.job.event', data={'step': 299, 'train_loss': 0.3547544479370117, 'total_steps': 300, 'train_mean_token_accuracy': 0.875}, type='metrics'), FineTuningJobEvent(id='ftevent-30oPvBC5hIylZgrN1fw6S7Tr', created_at=1717326418, level='info', message='Step 298/300: training loss=0.00', object='fine_tuning.job.event', data={'step': 298, 'train_loss': 4.238552548940788e-07, 'total_steps': 300, 'train_mean_token_accuracy': 1.0}, type='metrics'), FineTuningJobEvent(id='ftevent-ngklthpcqB9hpmHIXIszRlaX', created_at=1717326416, level='info', message='Step 297/300: training loss=0.00', object='fine_tuning.job.event', data={'step': 297, 'train_loss': 4.76837158203125e-07, 'total_steps': 300, 'train_mean_token_accuracy': 1.0}, type='metrics'), FineTuningJobEvent(id='ftevent-Cbih6sEz4uFS9ld28zNenKNI', created_at=1717326414, level='info', message='Step 296/300: training loss=0.00', object='fine_tuning.job.event', data={'step': 296, 'train_loss': 4.76837158203125e-07, 'total_steps': 300, 'train_mean_token_accuracy': 1.0}, type='metrics'), FineTuningJobEvent(id='ftevent-XF2bbcHDVsIDtxF6Vtw66ku7', created_at=1717326412, level='info', message='Step 295/300: training loss=0.00', object='fine_tuning.job.event', data={'step': 295, 'train_loss': 4.76837158203125e-07, 'total_steps': 300, 'train_mean_token_accuracy': 1.0}, type='metrics')], object='list', has_more=True)"
      ]
     },
     "execution_count": 18,
     "metadata": {},
     "output_type": "execute_result"
    }
   ],
   "source": [
    "# List up to 10 events from a fine-tuning job\n",
    "client.fine_tuning.jobs.list_events(fine_tuning_job_id=\"ftjob-7EAIs5HSTSHnS69VMF9FwMac\", limit=10)"
   ]
  },
  {
   "cell_type": "code",
   "execution_count": 19,
   "metadata": {},
   "outputs": [
    {
     "data": {
      "text/plain": [
       "FineTuningJob(id='ftjob-7EAIs5HSTSHnS69VMF9FwMac', created_at=1717325809, error=Error(code=None, message=None, param=None), fine_tuned_model='ft:gpt-3.5-turbo-0125:infomedia::9VdLBKV7', finished_at=1717326420, hyperparameters=Hyperparameters(n_epochs=3, batch_size=1, learning_rate_multiplier=2), model='gpt-3.5-turbo-0125', object='fine_tuning.job', organization_id='org-xE3l5iHAYqkV1PJDFAwfkWoo', result_files=['file-qUVLZ1oPQT6uE1W4UfiKJSo6'], seed=765579872, status='succeeded', trained_tokens=35178, training_file='file-yonRGbb8AexonWqklxVAm0g9', validation_file=None, estimated_finish=None, integrations=[], user_provided_suffix=None)"
      ]
     },
     "execution_count": 19,
     "metadata": {},
     "output_type": "execute_result"
    }
   ],
   "source": [
    "# Retrieve the state of a fine-tune\n",
    "client.fine_tuning.jobs.retrieve(\"ftjob-7EAIs5HSTSHnS69VMF9FwMac\")"
   ]
  },
  {
   "cell_type": "markdown",
   "metadata": {},
   "source": [
    "## Finetuned model"
   ]
  },
  {
   "cell_type": "code",
   "execution_count": 24,
   "metadata": {},
   "outputs": [],
   "source": [
    "df = pd.read_csv(\"../../eval/results/openai/openai_result.csv\", index_col=0)"
   ]
  },
  {
   "cell_type": "code",
   "execution_count": 25,
   "metadata": {},
   "outputs": [
    {
     "data": {
      "text/plain": [
       "Index(['text', 'true_labels', 'openai_no_finetune'], dtype='object')"
      ]
     },
     "execution_count": 25,
     "metadata": {},
     "output_type": "execute_result"
    }
   ],
   "source": [
    "df.columns"
   ]
  },
  {
   "cell_type": "code",
   "execution_count": 26,
   "metadata": {},
   "outputs": [
    {
     "data": {
      "application/vnd.jupyter.widget-view+json": {
       "model_id": "33b58fae72134518b89f760cf3a67eff",
       "version_major": 2,
       "version_minor": 0
      },
      "text/plain": [
       "  0%|          | 0/749 [00:00<?, ?it/s]"
      ]
     },
     "metadata": {},
     "output_type": "display_data"
    }
   ],
   "source": [
    "openai_response_ft = []\n",
    "\n",
    "for _, row in tqdm(df.iterrows(), total=df.shape[0]):\n",
    "    label = row[\"true_labels\"]\n",
    "    text = row[\"text\"]\n",
    "\n",
    "    response = client.chat.completions.create(\n",
    "        model=\"ft:MODEL_ID\", \n",
    "        response_format={ \"type\": \"json_object\" }, \n",
    "        messages=[\n",
    "            {\"role\": \"system\", \"content\": f\"Your task is to analyse and perform aspect based sentiment analysis on the given restaurant reviews text. The aspects should only be {aspects} and sentiments should only be {sentiments}. Output should only contain mentioned aspects and their respective sentiments as a json. Each aspects should only have one sentiment and not every aspect is necessarily present. Do not provide any further explanation.\"},\n",
    "            {\"role\": \"user\", \"content\": \"Add to that great service and great food at a reasonable price and you have yourself the beginning of a great evening\"},\n",
    "            {\"role\": \"assistant\", \"content\": \"{'service':'positive','food':'positive','price':'positive'}\"},\n",
    "            {\"role\": \"user\", \"content\": text}\n",
    "            ]\n",
    "            )\n",
    "\n",
    "    openai_response_ft.append(response.choices[0].message.content)\n"
   ]
  },
  {
   "cell_type": "code",
   "execution_count": 27,
   "metadata": {},
   "outputs": [],
   "source": [
    "df[\"openai_finetuned\"] = openai_response_ft"
   ]
  },
  {
   "cell_type": "code",
   "execution_count": 28,
   "metadata": {},
   "outputs": [],
   "source": [
    "df.to_csv(\"../../eval/results/openai/openai_result.csv\")"
   ]
  },
  {
   "cell_type": "code",
   "execution_count": null,
   "metadata": {},
   "outputs": [],
   "source": []
  }
 ],
 "metadata": {
  "kernelspec": {
   "display_name": "thesis",
   "language": "python",
   "name": "python3"
  },
  "language_info": {
   "codemirror_mode": {
    "name": "ipython",
    "version": 3
   },
   "file_extension": ".py",
   "mimetype": "text/x-python",
   "name": "python",
   "nbconvert_exporter": "python",
   "pygments_lexer": "ipython3",
   "version": "3.11.9"
  }
 },
 "nbformat": 4,
 "nbformat_minor": 2
}
